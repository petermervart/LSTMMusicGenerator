{
 "cells": [
  {
   "cell_type": "markdown",
   "metadata": {},
   "source": [
    "# Generating Music with LSTM"
   ]
  },
  {
   "cell_type": "markdown",
   "metadata": {
    "cell_id": "e27c73ab537a46df9e84a9a95af17269",
    "deepnote_cell_type": "text-cell-h3",
    "formattedRanges": []
   },
   "source": [
    "### Installing necessary libraries used for processing MIDI files"
   ]
  },
  {
   "cell_type": "code",
   "execution_count": 1,
   "metadata": {
    "cell_id": "fa819840ac5d48b89f9737c452ccc871",
    "colab": {
     "base_uri": "https://localhost:8080/"
    },
    "deepnote_cell_type": "code",
    "deepnote_to_be_reexecuted": false,
    "execution_millis": 2,
    "execution_start": 1683469214348,
    "id": "DOInJIJlpjHv",
    "outputId": "4c33dde0-c9fb-4605-da4e-ff2b240bad8f",
    "source_hash": "76971641"
   },
   "outputs": [],
   "source": [
    "!sudo apt install -y fluidsynth"
   ]
  },
  {
   "cell_type": "code",
   "execution_count": 2,
   "metadata": {
    "cell_id": "39e83d91c5bd4ecab7746b029ed5d59b",
    "colab": {
     "base_uri": "https://localhost:8080/"
    },
    "deepnote_cell_type": "code",
    "deepnote_to_be_reexecuted": false,
    "execution_millis": 5,
    "execution_start": 1683469224794,
    "id": "WO1VnfW8pmxW",
    "outputId": "589f8694-d622-4b7f-fc98-46c5c528a298",
    "source_hash": "6eec71f8"
   },
   "outputs": [],
   "source": [
    "!pip install --upgrade pyfluidsynth"
   ]
  },
  {
   "cell_type": "code",
   "execution_count": 3,
   "metadata": {
    "cell_id": "25089e02959e4b778162c1f4da7ace8d",
    "colab": {
     "base_uri": "https://localhost:8080/"
    },
    "deepnote_cell_type": "code",
    "deepnote_to_be_reexecuted": false,
    "execution_millis": 8,
    "execution_start": 1683469231851,
    "id": "fQoCzVyBpoq0",
    "outputId": "3e38cd4c-f251-486e-8c2c-f9babf1be369",
    "source_hash": "f94e2c5f"
   },
   "outputs": [],
   "source": [
    "!pip install pretty_midi"
   ]
  },
  {
   "cell_type": "code",
   "execution_count": 4,
   "metadata": {
    "cell_id": "ef35f021f8d84daab43a3ccf823f5ff8",
    "colab": {
     "base_uri": "https://localhost:8080/"
    },
    "deepnote_cell_type": "code",
    "deepnote_to_be_reexecuted": false,
    "execution_millis": 3,
    "execution_start": 1683469274092,
    "id": "LGl5xTC039Kg",
    "outputId": "8091eecd-046c-444d-f483-6270e007bcff",
    "source_hash": "b371be03"
   },
   "outputs": [],
   "source": [
    "!pip install wandb"
   ]
  },
  {
   "cell_type": "code",
   "execution_count": 5,
   "metadata": {
    "cell_id": "3b8caa8be67a44adae8dc57fb645e86d",
    "colab": {
     "base_uri": "https://localhost:8080/"
    },
    "deepnote_cell_type": "code",
    "deepnote_to_be_reexecuted": false,
    "execution_millis": 0,
    "execution_start": 1683469279980,
    "id": "z1u6RKMop6zp",
    "outputId": "d7115baf-f1d1-4cb7-d38e-e762cca19d28",
    "source_hash": "a87a65b1"
   },
   "outputs": [],
   "source": [
    "!unzip archive.zip -d source_music"
   ]
  },
  {
   "cell_type": "markdown",
   "metadata": {
    "cell_id": "9519cecc9263476aac26898a21958612",
    "deepnote_cell_type": "text-cell-h3",
    "formattedRanges": []
   },
   "source": [
    "### Used libraries"
   ]
  },
  {
   "cell_type": "code",
   "execution_count": null,
   "metadata": {
    "cell_id": "4808a9a7aa8542458eaf4f14095b5527",
    "deepnote_cell_type": "code",
    "id": "GsLFq7nsiqcq"
   },
   "outputs": [],
   "source": [
    "import collections\n",
    "import datetime\n",
    "import fluidsynth\n",
    "import glob\n",
    "import numpy as np\n",
    "import pathlib\n",
    "import pandas as pd\n",
    "import pretty_midi\n",
    "import seaborn as sns\n",
    "import tensorflow as tf\n",
    "import wandb\n",
    "import random\n",
    "import math\n",
    "\n",
    "from IPython import display\n",
    "from matplotlib import pyplot as plt\n",
    "from typing import Optional\n",
    "from collections import Counter\n",
    "from wandb.keras import WandbCallback\n",
    "from tensorflow.keras import backend as K"
   ]
  },
  {
   "cell_type": "markdown",
   "metadata": {
    "cell_id": "7a69f936be4e4131b83930ecdd73807c",
    "deepnote_cell_type": "text-cell-h3",
    "formattedRanges": []
   },
   "source": [
    "### Wandb init"
   ]
  },
  {
   "cell_type": "code",
   "execution_count": 6,
   "metadata": {
    "cell_id": "cb83764fdb5b4c91887c111cf093c0b0",
    "colab": {
     "base_uri": "https://localhost:8080/",
     "height": 208
    },
    "deepnote_cell_type": "code",
    "deepnote_to_be_reexecuted": false,
    "execution_millis": 8,
    "execution_start": 1683469293799,
    "id": "YeN3vbxg3ZwJ",
    "outputId": "8068eecd-c351-4762-dae1-06c6d549f29e",
    "source_hash": "6e5516ef"
   },
   "outputs": [],
   "source": [
    "wandb.login()\n",
    "wandb.init()\n",
    "config = wandb.config"
   ]
  },
  {
   "cell_type": "markdown",
   "metadata": {
    "cell_id": "a5e5dae4017c4742853fdd0f14a28d84",
    "deepnote_cell_type": "text-cell-h3",
    "formattedRanges": []
   },
   "source": [
    "### Seed and sampling rate (used for notes)"
   ]
  },
  {
   "cell_type": "code",
   "execution_count": null,
   "metadata": {
    "cell_id": "c28cc9655335438ebe54ac9a9c3e45bc",
    "deepnote_cell_type": "code",
    "id": "Efja_OtJNzAM"
   },
   "outputs": [],
   "source": [
    "seed = 1\n",
    "tf.random.set_seed(seed)\n",
    "np.random.seed(seed)\n",
    "\n",
    "SAMPLING_RATE = 16000"
   ]
  },
  {
   "cell_type": "markdown",
   "metadata": {
    "cell_id": "14c2c4ba404f4191bc96ce11d855b015",
    "deepnote_cell_type": "text-cell-h3",
    "formattedRanges": []
   },
   "source": [
    "### Paths to all files"
   ]
  },
  {
   "cell_type": "code",
   "execution_count": null,
   "metadata": {
    "cell_id": "67c5b47c1ae44d29b37dc7e899e2bc71",
    "deepnote_cell_type": "code",
    "id": "mwja4SWmibrL"
   },
   "outputs": [],
   "source": [
    "FILE = \"source_music/\"\n",
    "data_dir = pathlib.Path(FILE)\n",
    "filenames = glob.glob(str(data_dir/'**/*.mid*'))"
   ]
  },
  {
   "cell_type": "markdown",
   "metadata": {
    "cell_id": "4cafdf12c4fc463b9d7de4fade93b134",
    "deepnote_cell_type": "text-cell-h3",
    "formattedRanges": []
   },
   "source": [
    "### Processing files and extracting instruments"
   ]
  },
  {
   "cell_type": "code",
   "execution_count": null,
   "metadata": {
    "cell_id": "98dd9efa1a8f4b87b466d489227e2e25",
    "colab": {
     "base_uri": "https://localhost:8080/"
    },
    "deepnote_cell_type": "code",
    "id": "AxtoScgothVD",
    "outputId": "f308093f-99af-4cde-f43e-96d1921eec19"
   },
   "outputs": [
    {
     "name": "stdout",
     "output_type": "stream",
     "text": [
      "dict_keys(['Acoustic Grand Piano', 'Bright Acoustic Piano'])\n",
      "dict_values([589, 27])\n"
     ]
    }
   ],
   "source": [
    "instruments = []\n",
    "\n",
    "for file in filenames:\n",
    "  file_pm = pretty_midi.PrettyMIDI(file)\n",
    "  for instrument in file_pm.instruments:\n",
    "    instrument_name = pretty_midi.program_to_instrument_name(instrument.program)\n",
    "    instruments.append(instrument_name)\n",
    "\n",
    "print(Counter(instruments).keys())\n",
    "print(Counter(instruments).values())"
   ]
  },
  {
   "cell_type": "markdown",
   "metadata": {
    "cell_id": "fd31a2b6e8eb4d5ab74cbca9c1f68b3b",
    "deepnote_cell_type": "text-cell-h3",
    "formattedRanges": []
   },
   "source": [
    "### Most common instrument"
   ]
  },
  {
   "cell_type": "code",
   "execution_count": null,
   "metadata": {
    "cell_id": "fdd85aee6aec49589d8777f2c372a7a5",
    "deepnote_cell_type": "code",
    "id": "pXgCUmuOz4H4"
   },
   "outputs": [],
   "source": [
    "instrument_name = 'Acoustic Grand Piano'"
   ]
  },
  {
   "cell_type": "markdown",
   "metadata": {
    "cell_id": "6d469a6d8ff34a249af3c14e1d8aba70",
    "deepnote_cell_type": "text-cell-h3",
    "formattedRanges": []
   },
   "source": [
    "### Transfering midi file to notes"
   ]
  },
  {
   "cell_type": "markdown",
   "metadata": {
    "cell_id": "3ff2666cf1ff4f378ffc549ae9380c60",
    "deepnote_cell_type": "text-cell-p",
    "formattedRanges": []
   },
   "source": [
    "It is necessary to transfer midi file to notes to be able to make the data trainable. For the note representation, `pitch` and `duration` were extracted. To represent the relation between previous and next note, parameter `step` was also extracted."
   ]
  },
  {
   "cell_type": "markdown",
   "metadata": {
    "cell_id": "719d7f7bf4fc4027aecf8c8c76f04466",
    "deepnote_cell_type": "text-cell-p",
    "formattedRanges": []
   },
   "source": [
    "The commented code below represents suggested improvement which, on the contrary, worsened the result so it was not used.\n",
    " The solution consisted of repeating song to fill the length of the longest song to create batches that will not blend different songs. "
   ]
  },
  {
   "cell_type": "code",
   "execution_count": null,
   "metadata": {
    "cell_id": "4a152a5dad7442898c5670ff0c17ef88",
    "deepnote_cell_type": "code",
    "id": "Wyp_wdcEPWby"
   },
   "outputs": [],
   "source": [
    "def midis_to_notes(midi_files):\n",
    "\n",
    "  all_notes = collections.defaultdict(list)\n",
    "\n",
    "  sorted_notes_all = []\n",
    "\n",
    "  #max_length = 0\n",
    "\n",
    "  for file in midi_files:\n",
    "    file_pm = pretty_midi.PrettyMIDI(file)\n",
    "    instrument = file_pm.instruments[0]\n",
    "\n",
    "    sorted_notes = sorted(instrument.notes, key=lambda note: note.start)\n",
    "    sorted_notes_all.append(sorted_notes)\n",
    "\n",
    "    #current_length = len(sorted_notes)\n",
    "\n",
    "    #if current_length > max_length:\n",
    "    #  max_length = current_length\n",
    "\n",
    "  random.shuffle(sorted_notes_all)\n",
    "\n",
    "  #print(max_length)\n",
    "\n",
    "  for notes in sorted_notes_all:\n",
    "    #tempList = list(notes)\n",
    "    #for i in range(math.ceil(max_length/len(notes))):\n",
    "    #  for element in tempList:\n",
    "    #    if len(notes) == max_length:\n",
    "    #      break\n",
    "    #    notes.append(element)\n",
    "    prev_start = notes[0].start\n",
    "\n",
    "    for note in notes:\n",
    "      start = note.start\n",
    "      end = note.end\n",
    "      all_notes['pitch'].append(note.pitch)\n",
    "      all_notes['step'].append(max(0, start - prev_start))\n",
    "      all_notes['duration'].append(max(0, end - start))\n",
    "      all_notes['start'].append(start)\n",
    "      all_notes['end'].append(end)\n",
    "      prev_start = start\n",
    "\n",
    "  return pd.DataFrame({name: np.array(value) for name, value in all_notes.items()})"
   ]
  },
  {
   "cell_type": "code",
   "execution_count": null,
   "metadata": {
    "cell_id": "13f2f5a0adcc4653bc3de1429c00a1b5",
    "colab": {
     "base_uri": "https://localhost:8080/"
    },
    "deepnote_cell_type": "code",
    "id": "X0kPjLBlcnY6",
    "outputId": "6c4e341b-6500-4f78-bb7e-b017d801530e"
   },
   "outputs": [
    {
     "name": "stdout",
     "output_type": "stream",
     "text": [
      "378970\n"
     ]
    }
   ],
   "source": [
    "notes = midis_to_notes(filenames)\n",
    "notes.head()"
   ]
  },
  {
   "cell_type": "code",
   "execution_count": null,
   "metadata": {
    "cell_id": "ae2bb6a79d3c49e8addcc6ee65aeb88f",
    "colab": {
     "base_uri": "https://localhost:8080/"
    },
    "deepnote_cell_type": "code",
    "id": "BYyKeXDqRWF_",
    "outputId": "813c9caf-f051-4431-872d-ece38b250534"
   },
   "outputs": [
    {
     "name": "stdout",
     "output_type": "stream",
     "text": [
      "There are 378970 notes in 292 MIDI files\n"
     ]
    }
   ],
   "source": [
    "print(\"There are \" + str(len(notes.index)) + \" notes in \" + str(len(filenames)) + \" MIDI files\")"
   ]
  },
  {
   "cell_type": "markdown",
   "metadata": {
    "cell_id": "d94e88ebc7194744ab8fd5b22638ad98",
    "deepnote_cell_type": "text-cell-h3",
    "formattedRanges": []
   },
   "source": [
    "### Function for plotting notes"
   ]
  },
  {
   "cell_type": "code",
   "execution_count": null,
   "metadata": {
    "cell_id": "199b396d5484495a9efafed707653ae2",
    "deepnote_cell_type": "code",
    "id": "liD2N7x_WOTp"
   },
   "outputs": [],
   "source": [
    "def plot_piano_roll(notes, min = None, max = None):\n",
    "  if not max or min >= max:\n",
    "    max = len(notes['pitch'])\n",
    "    min = 0\n",
    "    \n",
    "  plt.figure(figsize=(20, 4))\n",
    "  pitch = np.stack([notes['pitch'], notes['pitch']], axis=0)\n",
    "  start_stop = np.stack([notes['start'], notes['end']], axis=0)\n",
    "  plt.plot(\n",
    "      start_stop[:, min:max], pitch[:, min:max], color=\"r\", marker=\".\")\n",
    "  plt.xlabel('time')\n",
    "  plt.ylabel('pitch')\n",
    "  _ = plt.title(\"Note continuity\")"
   ]
  },
  {
   "cell_type": "markdown",
   "metadata": {
    "cell_id": "b6b47b5f172f4ea897dd799faeb18d05",
    "deepnote_cell_type": "text-cell-h3",
    "formattedRanges": []
   },
   "source": [
    "### First 1000 notes from our dataset"
   ]
  },
  {
   "cell_type": "code",
   "execution_count": null,
   "metadata": {
    "cell_id": "fa7f86bfcd0d4431b2981d604b5b4c20",
    "colab": {
     "base_uri": "https://localhost:8080/",
     "height": 239
    },
    "deepnote_cell_type": "code",
    "id": "vWeUbqmAXjOs",
    "outputId": "a410eeb7-8fd6-412c-f35e-a6453cedb4b2"
   },
   "outputs": [
    {
     "data": {
      "image/png": "[encoded data removed]",
      "text/plain": [
       "<Figure size 2000x400 with 1 Axes>"
      ]
     },
     "metadata": {
      "image/png": {
       "height": 393,
       "width": 1616
      }
     },
     "output_type": "display_data"
    }
   ],
   "source": [
    "plot_piano_roll(notes, 0, 1000)"
   ]
  },
  {
   "cell_type": "markdown",
   "metadata": {
    "cell_id": "bb62c0c7c0cb427196a032ada421a714",
    "deepnote_cell_type": "text-cell-h3",
    "formattedRanges": []
   },
   "source": [
    "### Histplot of our features"
   ]
  },
  {
   "cell_type": "markdown",
   "metadata": {
    "cell_id": "8eb2a667d7fb4043a4477c5105fb8f09",
    "deepnote_cell_type": "text-cell-p",
    "formattedRanges": []
   },
   "source": [
    "We can see that pitch values are normally distributed. On the other hand step and duration is mostly around 0, which is expected."
   ]
  },
  {
   "cell_type": "code",
   "execution_count": null,
   "metadata": {
    "cell_id": "95edc0b459c142689bace5b2074023a8",
    "colab": {
     "base_uri": "https://localhost:8080/",
     "height": 301
    },
    "deepnote_cell_type": "code",
    "id": "-Nu2Pw24acFD",
    "outputId": "6e721b3c-6560-4bf8-e208-2857fb0191ca"
   },
   "outputs": [
    {
     "data": {
      "text/plain": [
       "<Axes: xlabel='duration', ylabel='Density'>"
      ]
     },
     "execution_count": 17,
     "metadata": {},
     "output_type": "execute_result"
    },
    {
     "data": {
      "image/png": "[encoded data removed]",
      "text/plain": [
       "<Figure size 1200x300 with 3 Axes>"
      ]
     },
     "metadata": {
      "image/png": {
       "height": 296,
       "width": 1010
      }
     },
     "output_type": "display_data"
    }
   ],
   "source": [
    "fig, axs = plt.subplots(1, 3, figsize=(12, 3))\n",
    "\n",
    "sns.histplot(data=notes[\"pitch\"], stat=\"density\", kde=True, color=\"skyblue\", ax=axs[0])\n",
    "sns.histplot(data=notes[\"step\"], stat=\"density\", kde=True, color=\"purple\", ax=axs[1])\n",
    "sns.histplot(data=notes[\"duration\"], stat=\"density\", kde=True, color=\"red\", ax=axs[2])\n"
   ]
  },
  {
   "cell_type": "markdown",
   "metadata": {
    "cell_id": "a8b6f387891b4440901e9e378794a555",
    "deepnote_cell_type": "text-cell-h3",
    "formattedRanges": []
   },
   "source": [
    "### Create dataset object from our data"
   ]
  },
  {
   "cell_type": "code",
   "execution_count": null,
   "metadata": {
    "cell_id": "8ceedc41d2274a2bbbd95e85b4b5f298",
    "deepnote_cell_type": "code",
    "id": "mvNHCHZdXG2P"
   },
   "outputs": [],
   "source": [
    "key_order = ['pitch', 'step', 'duration']\n",
    "train_notes = np.stack([notes[key] for key in key_order], axis=1)"
   ]
  },
  {
   "cell_type": "code",
   "execution_count": null,
   "metadata": {
    "cell_id": "db53fac57cc2433896cca0c010f26b30",
    "deepnote_cell_type": "code",
    "id": "PLC_19tshyFk"
   },
   "outputs": [],
   "source": [
    "notes_train_dataset = tf.data.Dataset.from_tensor_slices(train_notes)"
   ]
  },
  {
   "cell_type": "markdown",
   "metadata": {
    "cell_id": "64549901817c4d0787b1402196b8226e",
    "deepnote_cell_type": "text-cell-h3",
    "formattedRanges": []
   },
   "source": [
    "### Training settings"
   ]
  },
  {
   "cell_type": "markdown",
   "metadata": {
    "cell_id": "aba1268107924d36850bbe64dd24b210",
    "deepnote_cell_type": "text-cell-p",
    "formattedRanges": []
   },
   "source": [
    "SEQ_LENGTH represents sequence length of notes that are an input for LSTM to predict following note."
   ]
  },
  {
   "cell_type": "code",
   "execution_count": null,
   "metadata": {
    "cell_id": "a6770b99d91942e3ba4db58b9a421177",
    "deepnote_cell_type": "code",
    "id": "HFgtbuzzrY8c"
   },
   "outputs": [],
   "source": [
    "SEQ_LENGTH = 32\n",
    "VOCAB_SIZE = 128\n",
    "config.SEQ_LENGTH = SEQ_LENGTH\n",
    "config.VOCAB_SIZE = VOCAB_SIZE"
   ]
  },
  {
   "cell_type": "markdown",
   "metadata": {
    "cell_id": "785d7459100a46aeb691c2d5ecf5c02d",
    "deepnote_cell_type": "text-cell-h3",
    "formattedRanges": []
   },
   "source": [
    "### Dataset transform to sequences"
   ]
  },
  {
   "cell_type": "code",
   "execution_count": null,
   "metadata": {
    "cell_id": "88f990d0bf0e4ebf9f086c017c4a9052",
    "deepnote_cell_type": "code",
    "id": "vm6IC8wMe4id"
   },
   "outputs": [],
   "source": [
    "new_seq_length = config.SEQ_LENGTH+1\n",
    "windows = notes_train_dataset.window(new_seq_length, shift=1, stride=1, drop_remainder=True)\n",
    "\n",
    "def flatten_dataset(x):\n",
    "    return x.batch(new_seq_length, drop_remainder=True)\n",
    "\n",
    "sequences_final = windows.flat_map(flatten_dataset)\n",
    "\n",
    "def prepare_dataset(all_sequences):\n",
    "    input_sequences = all_sequences[:-1]\n",
    "    output_sequence = all_sequences[-1]\n",
    "\n",
    "    labels = {}\n",
    "    for i in range(len(key_order)):\n",
    "      labels[key_order[i]] = output_sequence[i]\n",
    "\n",
    "    return input_sequences/[config.VOCAB_SIZE,1.0,1.0], labels\n",
    "\n",
    "seq_dataset = sequences_final.map(prepare_dataset) \n"
   ]
  },
  {
   "cell_type": "markdown",
   "metadata": {
    "cell_id": "ded882e5c9af409fb55eb9e9cbbe2e5a",
    "deepnote_cell_type": "text-cell-h3",
    "formattedRanges": []
   },
   "source": [
    "### Batch size and shuffle of sequences"
   ]
  },
  {
   "cell_type": "code",
   "execution_count": null,
   "metadata": {
    "cell_id": "1e1936b43e8046d9ab01bafaad41e371",
    "deepnote_cell_type": "code",
    "id": "fTpFoiM_AV_Y"
   },
   "outputs": [],
   "source": [
    "batch_size = 256\n",
    "buffer_size = len(notes) - config.SEQ_LENGTH\n",
    "notes_train_dataset = (seq_dataset.shuffle(buffer_size).batch(batch_size, drop_remainder=True).cache().prefetch(tf.data.experimental.AUTOTUNE))"
   ]
  },
  {
   "cell_type": "markdown",
   "metadata": {
    "cell_id": "5974d562d18e40b8bdb8f5827934a463",
    "deepnote_cell_type": "text-cell-h3",
    "formattedRanges": []
   },
   "source": [
    "### Custome loss function"
   ]
  },
  {
   "cell_type": "markdown",
   "metadata": {
    "cell_id": "35ec6630c5344329a6ac6413bc604fd7",
    "deepnote_cell_type": "text-cell-p",
    "formattedRanges": []
   },
   "source": [
    "Since duration and step are always positive we add a penalty to classic MAE (Mean Absolute Error) for negative predicted values to accomplish better results when training."
   ]
  },
  {
   "cell_type": "code",
   "execution_count": null,
   "metadata": {
    "cell_id": "a1815354eda3476595ed847e7b0b9064",
    "deepnote_cell_type": "code",
    "id": "j-3JGr-uJU39"
   },
   "outputs": [],
   "source": [
    "def custom_mae(y_true, y_pred):\n",
    "    diff = K.abs(y_pred - y_true)\n",
    "\n",
    "    penalty = K.maximum(0.0, -y_pred)\n",
    "\n",
    "    weighted_diff = diff + 2 * penalty\n",
    "\n",
    "    mean_weighted_diff = K.mean(weighted_diff)\n",
    "\n",
    "    return mean_weighted_diff"
   ]
  },
  {
   "cell_type": "markdown",
   "metadata": {
    "cell_id": "49ba0587df8346daa7dbc68e759982a7",
    "deepnote_cell_type": "text-cell-h3",
    "formattedRanges": []
   },
   "source": [
    "### Model structure"
   ]
  },
  {
   "cell_type": "markdown",
   "metadata": {
    "cell_id": "4118276bcd8144a2bee0779eaeff1797",
    "deepnote_cell_type": "text-cell-p",
    "formattedRanges": []
   },
   "source": [
    "We used a single layer of LSTM with 3 outputs that represent our features (new note generating). For duration and step we use our previously mentioned custom loss function and for pitch we use SparseCategoricalCrossentropy (We handle Pitch as classification). We weigthed the outputs because pitch had much larger loss than other features (We optimize the combined loss only). "
   ]
  },
  {
   "cell_type": "markdown",
   "metadata": {
    "cell_id": "d239c04af8714ea7ba5efcbabeaaf0db",
    "deepnote_cell_type": "text-cell-p",
    "formattedRanges": []
   },
   "source": [
    "We experimented with multiple version of models and mostly focused on trying different learning_rate, units of LSTM, droupout values, sequence length, batch size. We also tried using multiple LSTM layers, but we did not achieve better results."
   ]
  },
  {
   "cell_type": "code",
   "execution_count": null,
   "metadata": {
    "cell_id": "26a01b1a2f4147f9b7b7fb199edd3bbe",
    "colab": {
     "base_uri": "https://localhost:8080/"
    },
    "deepnote_cell_type": "code",
    "id": "kNaVWcCzAm5V",
    "outputId": "cace9a80-a308-4ba8-f8da-8c5f367b4b31"
   },
   "outputs": [
    {
     "name": "stderr",
     "output_type": "stream",
     "text": [
      "WARNING:tensorflow:Layer lstm will not use cuDNN kernels since it doesn't meet the criteria. It will use a generic GPU kernel as fallback when running on GPU.\n"
     ]
    },
    {
     "name": "stdout",
     "output_type": "stream",
     "text": [
      "Model: \"model\"\n",
      "__________________________________________________________________________________________________\n",
      " Layer (type)                   Output Shape         Param #     Connected to                     \n",
      "==================================================================================================\n",
      " input_1 (InputLayer)           [(None, 32, 3)]      0           []                               \n",
      "                                                                                                  \n",
      " lstm (LSTM)                    (None, 256)          266240      ['input_1[0][0]']                \n",
      "                                                                                                  \n",
      " duration (Dense)               (None, 1)            257         ['lstm[0][0]']                   \n",
      "                                                                                                  \n",
      " pitch (Dense)                  (None, 128)          32896       ['lstm[0][0]']                   \n",
      "                                                                                                  \n",
      " step (Dense)                   (None, 1)            257         ['lstm[0][0]']                   \n",
      "                                                                                                  \n",
      "==================================================================================================\n",
      "Total params: 299,650\n",
      "Trainable params: 299,650\n",
      "Non-trainable params: 0\n",
      "__________________________________________________________________________________________________\n"
     ]
    }
   ],
   "source": [
    "LEARNING_RATE = 0.005\n",
    "\n",
    "inputs = tf.keras.Input((config.SEQ_LENGTH, 3))\n",
    "x = tf.keras.layers.LSTM(256, dropout = 0.1, recurrent_dropout = 0.1)(inputs)\n",
    "\n",
    "outputs = {\n",
    "  'pitch': tf.keras.layers.Dense(128, name='pitch')(x),\n",
    "  'step': tf.keras.layers.Dense(1, name='step')(x),\n",
    "  'duration': tf.keras.layers.Dense(1, name='duration')(x),\n",
    "}\n",
    "\n",
    "losses = {\n",
    "      'pitch': tf.keras.losses.SparseCategoricalCrossentropy(from_logits=True),\n",
    "      'step': custom_mae,\n",
    "      'duration': custom_mae\n",
    "}\n",
    "\n",
    "loss_weights={\n",
    "        'pitch': 0.04,\n",
    "        'step': 1.0,\n",
    "        'duration':1.0,\n",
    "}\n",
    "\n",
    "model = tf.keras.Model(inputs, outputs)\n",
    "\n",
    "model.compile(loss=losses, optimizer=tf.keras.optimizers.Adam(learning_rate=LEARNING_RATE), loss_weights=loss_weights)\n",
    "\n",
    "model.summary()"
   ]
  },
  {
   "cell_type": "markdown",
   "metadata": {
    "cell_id": "5173481c02204bbeac8f5a7f680ffec3",
    "deepnote_cell_type": "text-cell-h3",
    "formattedRanges": []
   },
   "source": [
    "### Callbacks (Checkpoint, EarlyStopping and wandb)"
   ]
  },
  {
   "cell_type": "code",
   "execution_count": null,
   "metadata": {
    "cell_id": "56721e1755d547468ab9e93d6ace5998",
    "deepnote_cell_type": "code",
    "id": "RNuXvhlilbgL"
   },
   "outputs": [],
   "source": [
    "def get_callbacks(patience, checkpoint_filepath):\n",
    "  checkpoint = tf.keras.callbacks.ModelCheckpoint(filepath='checkpoint_filepath', save_weights_only=True)\n",
    "\n",
    "  es = tf.keras.callbacks.EarlyStopping(\n",
    "        monitor='loss',\n",
    "        patience=patience,\n",
    "        verbose=1,\n",
    "        restore_best_weights=True)\n",
    "  \n",
    "  wandb = WandbCallback()\n",
    "  \n",
    "  return [wandb, checkpoint, es]"
   ]
  },
  {
   "cell_type": "markdown",
   "metadata": {
    "cell_id": "1559da3cb7654953906af0e7219211f2",
    "deepnote_cell_type": "text-cell-h3",
    "formattedRanges": []
   },
   "source": [
    "### Training and EarlyStopping parameters"
   ]
  },
  {
   "cell_type": "code",
   "execution_count": null,
   "metadata": {
    "cell_id": "c982c54b203249e491e22ba51de7cb9f",
    "colab": {
     "base_uri": "https://localhost:8080/"
    },
    "deepnote_cell_type": "code",
    "id": "MG_igOgcmQlG",
    "outputId": "82f83e53-e2cb-49e2-eb20-4d637215c0e1"
   },
   "outputs": [
    {
     "name": "stderr",
     "output_type": "stream",
     "text": [
      "\u001b[34m\u001b[1mwandb\u001b[0m: \u001b[33mWARNING\u001b[0m The save_model argument by default saves the model in the HDF5 format that cannot save custom objects like subclassed models and custom layers. This behavior will be deprecated in a future release in favor of the SavedModel format. Meanwhile, the HDF5 model is saved as W&B files and the SavedModel as W&B Artifacts.\n"
     ]
    },
    {
     "name": "stdout",
     "output_type": "stream",
     "text": [
      "Epoch 1/250\n",
      "    419/Unknown - 70s 49ms/step - loss: 0.4138 - duration_loss: 0.1278 - pitch_loss: 3.7447 - step_loss: 0.1362"
     ]
    }
   ],
   "source": [
    "MAX_EPOCHS = 250\n",
    "PATIENCE = 5\n",
    "checkpoint_filepath = \"checkpoints/checkpoint_weights\"\n",
    "\n",
    "history = model.fit(notes_train_dataset, epochs=MAX_EPOCHS, callbacks=get_callbacks(PATIENCE, checkpoint_filepath))"
   ]
  },
  {
   "cell_type": "code",
   "execution_count": null,
   "metadata": {
    "cell_id": "a6977d81824f4b90a4fd03dc0aa9a9ae",
    "deepnote_cell_type": "code",
    "id": "KkzpBo9N3zpL"
   },
   "outputs": [],
   "source": [
    "wandb.finish()"
   ]
  },
  {
   "cell_type": "code",
   "execution_count": null,
   "metadata": {
    "cell_id": "14a7e77e5a364189991f275eb05b098c",
    "deepnote_cell_type": "code",
    "id": "jNzZPyY2sViq"
   },
   "outputs": [],
   "source": [
    "def squeeze_item(item):\n",
    "    return tf.squeeze(item, axis=-1)"
   ]
  },
  {
   "cell_type": "markdown",
   "metadata": {
    "cell_id": "19a0ec7ac48b4c5ab1ee785aec181320",
    "deepnote_cell_type": "text-cell-h3",
    "formattedRanges": []
   },
   "source": [
    "### Function for generating Note"
   ]
  },
  {
   "cell_type": "code",
   "execution_count": null,
   "metadata": {
    "cell_id": "66a601d8852743eb82b545ce075c3507",
    "deepnote_cell_type": "code",
    "id": "mjXxmLU1nRnV"
   },
   "outputs": [],
   "source": [
    "def predict_next_note(notes, keras_model, temperature):\n",
    "\n",
    "  inputs = tf.expand_dims(notes, 0)\n",
    "\n",
    "  prediction_all = model.predict(inputs)\n",
    "  pitch = tf.random.categorical(prediction_all['pitch']/temperature, num_samples=1)\n",
    "  step = prediction_all['step']\n",
    "  duration = prediction_all['duration']\n",
    "\n",
    "  pitch = int(squeeze_item(pitch))\n",
    "  duration = squeeze_item(duration)\n",
    "  step = squeeze_item(step)\n",
    "\n",
    "  step = float(tf.maximum(0, step))\n",
    "  duration = float(tf.maximum(0, duration))\n",
    "\n",
    "  return pitch, step, duration"
   ]
  },
  {
   "cell_type": "markdown",
   "metadata": {
    "cell_id": "aa9c64c4f69b46329e0bc26d861966ef",
    "deepnote_cell_type": "text-cell-h3",
    "formattedRanges": []
   },
   "source": [
    "### Generating song"
   ]
  },
  {
   "cell_type": "markdown",
   "metadata": {
    "cell_id": "8408ceedc9d148a6b3e13d3d6f72f969",
    "deepnote_cell_type": "text-cell-p",
    "formattedRanges": []
   },
   "source": [
    "TEMPERATURE represents randomness of pitch values."
   ]
  },
  {
   "cell_type": "code",
   "execution_count": null,
   "metadata": {
    "cell_id": "2dee4377c7a7423c9488b1a54103e01e",
    "deepnote_cell_type": "code",
    "id": "WaiSp913r3Yh"
   },
   "outputs": [],
   "source": [
    "TEMPERATURE = 1.5\n",
    "NUM_OF_PRED = 150"
   ]
  },
  {
   "cell_type": "code",
   "execution_count": null,
   "metadata": {
    "cell_id": "13fe56e76f85483d9cc56679740ceb87",
    "deepnote_cell_type": "code",
    "id": "ubLGO_KHpZ05"
   },
   "outputs": [],
   "source": [
    "values = [notes[key] for key in key_order]\n",
    "sample_notes = np.stack(values, axis=1)\n",
    "\n",
    "random_number = random.randint(0, len(sample_notes) - SEQ_LENGTH - 1)\n",
    "\n",
    "input_notes = (sample_notes[random_number:random_number + SEQ_LENGTH] / np.array([VOCAB_SIZE, 1, 1]))\n",
    "\n",
    "generated_notes = []\n",
    "start_old = 0\n",
    "for _ in range(NUM_OF_PRED):\n",
    "  pitch, step, duration = predict_next_note(input_notes, model, TEMPERATURE)\n",
    "  \n",
    "  start = start_old + step\n",
    "  end = start + duration\n",
    "  input_note = (pitch, step, duration)\n",
    "\n",
    "  generated_notes.append((*input_note, start, end))\n",
    "  input_notes = np.delete(input_notes, 0, axis=0)\n",
    "  input_notes = np.append(input_notes, np.expand_dims(input_note, 0), axis=0)\n",
    "  start_old = start\n",
    "\n",
    "generated_notes = pd.DataFrame(generated_notes, columns=(*key_order, 'start', 'end'))"
   ]
  },
  {
   "cell_type": "markdown",
   "metadata": {
    "cell_id": "c16c66c05cb840f9a27e2e445b7bf4c0",
    "deepnote_cell_type": "text-cell-h3",
    "formattedRanges": []
   },
   "source": [
    "### Notes to midi file and PrettyMidi for player"
   ]
  },
  {
   "cell_type": "code",
   "execution_count": null,
   "metadata": {
    "cell_id": "bfc4cd141dfa4e86b9dc945fa72236ec",
    "deepnote_cell_type": "code",
    "id": "iZz3guGjqbSn"
   },
   "outputs": [],
   "source": [
    "def notes_to_midi(notes, out_file, instrument_name, velocity = 100):\n",
    "\n",
    "  pm = pretty_midi.PrettyMIDI()\n",
    "  instrument = pretty_midi.Instrument(program=pretty_midi.instrument_name_to_program(instrument_name))\n",
    "\n",
    "  prev_start = 0\n",
    "  for i, note in notes.iterrows():\n",
    "    start = float(prev_start + note['step'])\n",
    "    end = float(start + note['duration'])\n",
    "    note = pretty_midi.Note(velocity=velocity, pitch=int(note['pitch']), start=start, end=end,)\n",
    "    instrument.notes.append(note)\n",
    "    prev_start = start\n",
    "\n",
    "  pm.instruments.append(instrument)\n",
    "  pm.write(out_file)\n",
    "  return pm"
   ]
  },
  {
   "cell_type": "markdown",
   "metadata": {
    "cell_id": "1b97c6dbb4b04d0a8dd4953f07e44994",
    "deepnote_cell_type": "text-cell-h3",
    "formattedRanges": []
   },
   "source": [
    "### Function for generating midi player"
   ]
  },
  {
   "cell_type": "code",
   "execution_count": null,
   "metadata": {
    "cell_id": "75e605546f49418aaee83c82aea54af3",
    "deepnote_cell_type": "code",
    "id": "nL2p3PAivTlq"
   },
   "outputs": [],
   "source": [
    "def play_midi(pm, seconds=60):\n",
    "  full_synth = pm.fluidsynth(fs=SAMPLING_RATE)\n",
    "\n",
    "  shortened_synth = full_synth[:seconds*SAMPLING_RATE]\n",
    "  return display.Audio(shortened_synth, rate=SAMPLING_RATE)"
   ]
  },
  {
   "cell_type": "markdown",
   "metadata": {
    "cell_id": "631af96a9ceb4cd5a5389dbe3c7a26db",
    "deepnote_cell_type": "text-cell-h3",
    "formattedRanges": []
   },
   "source": [
    "### Plot of generated song"
   ]
  },
  {
   "cell_type": "code",
   "execution_count": null,
   "metadata": {
    "cell_id": "8dcb475f8ccb45e2bea217a28e686e80",
    "deepnote_cell_type": "code",
    "id": "BRoI9t3hbTpl"
   },
   "outputs": [],
   "source": [
    "plot_piano_roll(generated_notes, 0, NUM_OF_PRED)"
   ]
  },
  {
   "cell_type": "markdown",
   "metadata": {
    "cell_id": "6312f6b35db54f8d9d9719ad6f7b2c30",
    "deepnote_cell_type": "text-cell-h3",
    "formattedRanges": []
   },
   "source": [
    "### Converting the notes to the final result"
   ]
  },
  {
   "cell_type": "markdown",
   "metadata": {
    "cell_id": "161867caa39048f9adc38d805635dc1f",
    "deepnote_cell_type": "text-cell-p",
    "formattedRanges": []
   },
   "source": [
    "Notes are conversed to midi file, midi file is printed out and saved to `generated_song.midi`."
   ]
  },
  {
   "cell_type": "code",
   "execution_count": null,
   "metadata": {
    "cell_id": "fdf996b4e9584ca2b625e06452d63385",
    "deepnote_cell_type": "code",
    "id": "Y_ljvLvJppXY"
   },
   "outputs": [],
   "source": [
    "generated_file = 'generated_song.midi'\n",
    "generated_pm = notes_to_midi(generated_notes, out_file=generated_file, instrument_name=instrument_name)\n",
    "play_midi(generated_pm, seconds=60)"
   ]
  },
  {
   "cell_type": "markdown",
   "metadata": {
    "created_in_deepnote_cell": true,
    "deepnote_cell_type": "markdown"
   },
   "source": [
    "<a style='text-decoration:none;line-height:16px;display:flex;color:#5B5B62;padding:10px;justify-content:end;' href='https://deepnote.com?utm_source=created-in-deepnote-cell&projectId=7c918863-8f84-4adc-ade8-b4cb5a6a15d9' target=\"_blank\">\n",
    "<img alt='Created in deepnote.com' style='display:inline;max-height:16px;margin:0px;margin-right:7.5px;' src='data:image/svg+xml;base64,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' > </img>\n",
    "Created in <span style='font-weight:600;margin-left:4px;'>Deepnote</span></a>"
   ]
  }
 ],
 "metadata": {
  "deepnote_notebook_id": "0267725ee2724b8f82aa78d34bf3ba85",
  "language_info": {
   "name": "python"
  }
 },
 "nbformat": 4,
 "nbformat_minor": 0
}
